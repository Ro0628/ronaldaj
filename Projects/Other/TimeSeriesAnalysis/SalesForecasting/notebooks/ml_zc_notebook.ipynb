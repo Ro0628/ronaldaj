{
 "cells": [
  {
   "cell_type": "markdown",
   "metadata": {},
   "source": [
    "# ML Zoomcamp 2024 Competition"
   ]
  },
  {
   "cell_type": "markdown",
   "metadata": {},
   "source": [
    "## Problem Definition\n",
    "__Business Problem__ : <br/>\n",
    "__Goal__ : Forecast customer demand based on historical sales and related data from a retailer."
   ]
  },
  {
   "cell_type": "markdown",
   "metadata": {},
   "source": [
    "Data Collection\n",
    "\n",
    "Code: Import and preview data.\n",
    "Data Cleaning\n",
    "\n",
    "Code: Handle missing values, outliers, etc.\n",
    "Outputs: Summary statistics.\n",
    "EDA\n",
    "\n",
    "Code: Generate visualizations (e.g., pair plots, histograms).\n",
    "Outputs: Insights with markdown commentary.\n",
    "Feature Engineering\n",
    "\n",
    "Code: Create and transform features.\n",
    "Outputs: Updated dataset snapshot.\n",
    "\n",
    "Model Training and Evaluation\n",
    "\n",
    "Code: Train models, compare metrics.\n",
    "Outputs: Confusion matrix, accuracy, precision, etc.\n",
    "Model Deployment Simulation\n",
    "\n",
    "Markdown: Describe how the model would be deployed.\n",
    "Code: Simple simulation (e.g., predict new data).\n",
    "Monitoring and Maintenance\n",
    "\n",
    "Markdown: Discuss strategies for ongoing updates."
   ]
  },
  {
   "cell_type": "markdown",
   "metadata": {},
   "source": [
    "## Data Collection"
   ]
  },
  {
   "cell_type": "markdown",
   "metadata": {},
   "source": [
    "### Import Data"
   ]
  },
  {
   "cell_type": "code",
   "execution_count": 6,
   "metadata": {},
   "outputs": [],
   "source": [
    "\n",
    "import numpy as np # linear algebra\n",
    "import pandas as pd # data processing, CSV file I/O (e.g. pd.read_csv)\n",
    "\n",
    "from tabulate import tabulate\n",
    "import qgrid as qg\n",
    "\n",
    "# Set display options\n",
    "pd.set_option('display.max_rows', 10)      # Max number of rows to display\n",
    "pd.set_option('display.max_columns', 5)   # Max number of columns to display\n",
    "pd.set_option('display.width', 100)       # Adjust the total display width\n",
    "pd.set_option('display.colheader_justify', 'center')  # Align column headers"
   ]
  },
  {
   "cell_type": "code",
   "execution_count": 5,
   "metadata": {},
   "outputs": [],
   "source": [
    "root_dir = '../data/raw/'\n",
    "df_actual_matrix = pd.read_csv(root_dir + 'actual_matrix.csv')\n",
    "df_catalog = pd.read_csv(root_dir + 'catalog.csv')\n",
    "df_discounts_history = pd.read_csv(root_dir + 'discounts_history.csv')\n",
    "df_markdowns = pd.read_csv(root_dir + 'markdowns.csv')\n",
    "df_online = pd.read_csv(root_dir + 'online.csv')\n",
    "df_price_history = pd.read_csv(root_dir + 'price_history.csv')\n",
    "df_sales = pd.read_csv(root_dir + 'sales.csv')\n",
    "df_stores = pd.read_csv(root_dir + 'stores.csv')\n",
    "\n",
    "#(Kaggle Only) testing and sumbmission\n",
    "df_sample_submission = pd.read_csv(root_dir + 'sample_submission.csv')\n",
    "df_test = pd.read_csv(root_dir + 'test.csv')"
   ]
  },
  {
   "cell_type": "markdown",
   "metadata": {},
   "source": [
    "### Exploratory Data Analysis"
   ]
  },
  {
   "cell_type": "markdown",
   "metadata": {},
   "source": [
    "What I would like to explore while solving the problem? \n",
    "# Forecast customer demand based on historical data.\n",
    "\n",
    "How do holidays effect data?\n",
    "Store areas? \n",
    "Online vs Storefront?\n",
    "Are some items markdown more often than others?\n",
    "High/low selling items, when and what stores?\n",
    "Do all stores carry the same products? \n",
    "Area/Location of stores? How do seasons affect sales?\n"
   ]
  },
  {
   "cell_type": "code",
   "execution_count": 7,
   "metadata": {},
   "outputs": [
    {
     "name": "stdout",
     "output_type": "stream",
     "text": [
      "Store Data Shape: (4, 6)\n",
      "\n",
      "Store Data Description: \n",
      "+-------+--------------------+--------------------+-------------------+\n",
      "|       |     Unnamed: 0     |      store_id      |       area        |\n",
      "+-------+--------------------+--------------------+-------------------+\n",
      "| count |        4.0         |        4.0         |        4.0        |\n",
      "| mean  |        1.5         |        2.5         |       926.5       |\n",
      "|  std  | 1.2909944487358056 | 1.2909944487358056 | 900.5814788235432 |\n",
      "|  min  |        0.0         |        1.0         |       109.0       |\n",
      "|  25%  |        0.75        |        1.75        |      184.75       |\n",
      "|  50%  |        1.5         |        2.5         |       855.0       |\n",
      "|  75%  |        2.25        |        3.25        |      1596.75      |\n",
      "|  max  |        3.0         |        4.0         |      1887.0       |\n",
      "+-------+--------------------+--------------------+-------------------+\n",
      "Store Data Head(): \n",
      "+---+------------+----------+----------+------------------+-------+------+\n",
      "|   | Unnamed: 0 | store_id | division |      format      | city  | area |\n",
      "+---+------------+----------+----------+------------------+-------+------+\n",
      "| 0 |     0      |    4     |   Div1   |     MaxiEuro     | City3 | 1887 |\n",
      "| 1 |     1      |    3     |   Div2   | Format-7 express | City2 | 109  |\n",
      "| 2 |     2      |    2     |   Div2   |     Format-6     | City1 | 210  |\n",
      "| 3 |     3      |    1     |   Div1   |     Format-1     | City1 | 1500 |\n",
      "+---+------------+----------+----------+------------------+-------+------+\n"
     ]
    }
   ],
   "source": [
    "#Stores\n",
    "\n",
    "print(f'Store Data Shape: {df_stores.shape}\\n')\n",
    "print(f'Store Data Description: \\n{tabulate(df_stores.describe(), headers='keys', tablefmt='pretty')}')\n",
    "print(f'Store Data Head(): \\n{tabulate(df_stores.head(), headers='keys', tablefmt='pretty')}')\n",
    "\n",
    "#qgrid_store_widget = qg.show_grid(df_stores, show_toolbar=True)\n",
    "#qgrid_store_widget"
   ]
  },
  {
   "cell_type": "markdown",
   "metadata": {},
   "source": [
    "### Visualize Data"
   ]
  },
  {
   "cell_type": "markdown",
   "metadata": {},
   "source": [
    "### Feature Engineering"
   ]
  },
  {
   "cell_type": "markdown",
   "metadata": {},
   "source": [
    "## Model Training"
   ]
  },
  {
   "cell_type": "markdown",
   "metadata": {},
   "source": []
  },
  {
   "cell_type": "markdown",
   "metadata": {},
   "source": [
    "### Model Evaluation\n",
    "\n",
    "<math xmlns=\"http://www.w3.org/1998/Math/MathML\" display=\"block\">\n",
    "  <mi>R</mi>\n",
    "  <mi>M</mi>\n",
    "  <mi>S</mi>\n",
    "  <mi>E</mi>\n",
    "  <mo>=</mo>\n",
    "  <msqrt>\n",
    "    <mfrac>\n",
    "      <mn>1</mn>\n",
    "      <mi>n</mi>\n",
    "    </mfrac>\n",
    "    <munderover>\n",
    "      <mo>&#x2211;<!-- ∑ --></mo>\n",
    "      <mrow class=\"MJX-TeXAtom-ORD\">\n",
    "        <mi>i</mi>\n",
    "        <mo>=</mo>\n",
    "        <mn>1</mn>\n",
    "      </mrow>\n",
    "      <mrow class=\"MJX-TeXAtom-ORD\">\n",
    "        <mi>n</mi>\n",
    "      </mrow>\n",
    "    </munderover>\n",
    "    <mo stretchy=\"false\">(</mo>\n",
    "    <msub>\n",
    "      <mi>y</mi>\n",
    "      <mi>i</mi>\n",
    "    </msub>\n",
    "    <mo>&#x2212;<!-- − --></mo>\n",
    "    <msub>\n",
    "      <mrow class=\"MJX-TeXAtom-ORD\">\n",
    "        <mover>\n",
    "          <mi>y</mi>\n",
    "          <mo stretchy=\"false\">&#x005E;<!-- ^ --></mo>\n",
    "        </mover>\n",
    "      </mrow>\n",
    "      <mi>i</mi>\n",
    "    </msub>\n",
    "    <msup>\n",
    "      <mo stretchy=\"false\">)</mo>\n",
    "      <mn>2</mn>\n",
    "    </msup>\n",
    "  </msqrt>\n",
    "</math>\n"
   ]
  },
  {
   "cell_type": "markdown",
   "metadata": {},
   "source": [
    "## Model Deployment"
   ]
  },
  {
   "cell_type": "markdown",
   "metadata": {},
   "source": []
  }
 ],
 "metadata": {
  "kernelspec": {
   "display_name": "zoomcamp",
   "language": "python",
   "name": "python3"
  },
  "language_info": {
   "codemirror_mode": {
    "name": "ipython",
    "version": 3
   },
   "file_extension": ".py",
   "mimetype": "text/x-python",
   "name": "python",
   "nbconvert_exporter": "python",
   "pygments_lexer": "ipython3",
   "version": "3.12.7"
  }
 },
 "nbformat": 4,
 "nbformat_minor": 2
}
